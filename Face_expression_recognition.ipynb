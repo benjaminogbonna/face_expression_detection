{
 "cells": [
  {
   "cell_type": "markdown",
   "metadata": {
    "id": "CCO04-FUN8Bf"
   },
   "source": [
    "# Face Expression Recognition Project"
   ]
  },
  {
   "cell_type": "code",
   "execution_count": 1,
   "metadata": {
    "executionInfo": {
     "elapsed": 3060,
     "status": "ok",
     "timestamp": 1651708156596,
     "user": {
      "displayName": "Onyedikachi Benjamin Ogbonna",
      "userId": "07189464990372282231"
     },
     "user_tz": -60
    },
    "id": "JR0LZsRMONn3"
   },
   "outputs": [],
   "source": [
    "# notebook imports\n",
    "\n",
    "import numpy as np\n",
    "import pandas as pd\n",
    "import tensorflow as tf\n",
    "import seaborn as sns\n",
    "import matplotlib.pyplot as plt\n",
    "import matplotlib.image as mpimg\n",
    "import random\n",
    "from sklearn.model_selection import train_test_split\n",
    "import cv2\n",
    "from PIL import Image as im\n",
    "\n",
    "from tensorflow import keras \n",
    "from keras.models import Sequential\n",
    "from keras.layers import Conv2D, MaxPooling2D, Activation, BatchNormalization, Dense, Flatten, Dropout\n",
    "from keras.preprocessing.image import ImageDataGenerator , img_to_array, load_img\n",
    "\n",
    "# get helper functions\n",
    "# import helper_functions"
   ]
  },
  {
   "cell_type": "code",
   "execution_count": 2,
   "metadata": {
    "executionInfo": {
     "elapsed": 4,
     "status": "ok",
     "timestamp": 1651708170768,
     "user": {
      "displayName": "Onyedikachi Benjamin Ogbonna",
      "userId": "07189464990372282231"
     },
     "user_tz": -60
    },
    "id": "N5U5jG6zd0he"
   },
   "outputs": [],
   "source": [
    "# make model call backs\n",
    "\n",
    "import os\n",
    "save_path = 'model_experiments'\n",
    "\n",
    "def create_model_checkpoint(model_name, save_path=save_path):\n",
    "    return tf.keras.callbacks.ModelCheckpoint(filepath=os.path.join(save_path, model_name),\n",
    "                                              verbose=0, \n",
    "                                              save_best_only=True)\n",
    "\n",
    "early_stopping = tf.keras.callbacks.EarlyStopping(monitor=\"val_loss\",\n",
    "                                                  patience=200,\n",
    "                                                  restore_best_weights=True)\n",
    "\n",
    "reduce_plateau = tf.keras.callbacks.ReduceLROnPlateau(monitor=\"val_loss\",\n",
    "                                                      patience=100,\n",
    "                                                      verbose=1)"
   ]
  },
  {
   "cell_type": "code",
   "execution_count": 3,
   "metadata": {
    "colab": {
     "base_uri": "https://localhost:8080/"
    },
    "executionInfo": {
     "elapsed": 531,
     "status": "ok",
     "timestamp": 1651708176530,
     "user": {
      "displayName": "Onyedikachi Benjamin Ogbonna",
      "userId": "07189464990372282231"
     },
     "user_tz": -60
    },
    "id": "0DmJJPCvebrw",
    "outputId": "6726e1e8-2ec9-4d8a-cb18-c510529b6293"
   },
   "outputs": [
    {
     "name": "stdout",
     "output_type": "stream",
     "text": [
      "--2022-05-04 23:49:49--  https://raw.githubusercontent.com/benjaminogbonna/helper_codes/main/helper_functions.py\n",
      "Resolving raw.githubusercontent.com (raw.githubusercontent.com)... 185.199.108.133, 185.199.109.133, 185.199.110.133, ...\n",
      "Connecting to raw.githubusercontent.com (raw.githubusercontent.com)|185.199.108.133|:443... connected.\n",
      "HTTP request sent, awaiting response... 200 OK\n",
      "Length: 10642 (10K) [text/plain]\n",
      "Saving to: ‘helper_functions.py’\n",
      "\n",
      "\r",
      "helper_functions.py   0%[                    ]       0  --.-KB/s               \r",
      "helper_functions.py 100%[===================>]  10.39K  --.-KB/s    in 0s      \n",
      "\n",
      "2022-05-04 23:49:49 (38.2 MB/s) - ‘helper_functions.py’ saved [10642/10642]\n",
      "\n"
     ]
    }
   ],
   "source": [
    "!wget https://raw.githubusercontent.com/benjaminogbonna/helper_codes/main/helper_functions.py\n",
    "\n",
    "from helper_functions import create_tensorboard_callback, plot_loss_curves, compare_historys, unzip_data, walk_through_dir, view_random_image"
   ]
  },
  {
   "cell_type": "code",
   "execution_count": 5,
   "metadata": {
    "colab": {
     "base_uri": "https://localhost:8080/"
    },
    "executionInfo": {
     "elapsed": 67292,
     "status": "ok",
     "timestamp": 1651708293798,
     "user": {
      "displayName": "Onyedikachi Benjamin Ogbonna",
      "userId": "07189464990372282231"
     },
     "user_tz": -60
    },
    "id": "zwEeS13kexw9",
    "outputId": "0177d085-24fe-4dc8-bf0f-b777df7ef950"
   },
   "outputs": [
    {
     "name": "stdout",
     "output_type": "stream",
     "text": [
      "Mounted at /content/drive\n"
     ]
    }
   ],
   "source": [
    "from google.colab import drive\n",
    "drive.mount('/content/drive')"
   ]
  },
  {
   "cell_type": "code",
   "execution_count": 161,
   "metadata": {
    "executionInfo": {
     "elapsed": 10047,
     "status": "ok",
     "timestamp": 1651708319413,
     "user": {
      "displayName": "Onyedikachi Benjamin Ogbonna",
      "userId": "07189464990372282231"
     },
     "user_tz": -60
    },
    "id": "L62kbc9UodbZ"
   },
   "outputs": [],
   "source": [
    "# get data\n",
    "\n",
    "# face_data2 = '/content/drive/MyDrive/Colab Notebooks/Face_expression_recognition_project/face_expression/face_expression.zip'\n",
    "# unzip_data(face_data2)\n",
    "\n",
    "# train_dir = 'face_expression/train'\n",
    "# validation_dir = 'face_expression/validation'\n",
    "\n",
    "train_dir = 'data/face_expression/train'\n",
    "validation_dir = 'data/face_expression/validation'"
   ]
  },
  {
   "cell_type": "markdown",
   "metadata": {
    "id": "tTm8MHeAZ0nH"
   },
   "source": [
    "# Train model\n",
    "\n",
    "\n"
   ]
  },
  {
   "cell_type": "code",
   "execution_count": 162,
   "metadata": {
    "colab": {
     "base_uri": "https://localhost:8080/"
    },
    "executionInfo": {
     "elapsed": 3441,
     "status": "ok",
     "timestamp": 1651708333513,
     "user": {
      "displayName": "Onyedikachi Benjamin Ogbonna",
      "userId": "07189464990372282231"
     },
     "user_tz": -60
    },
    "id": "B6h174j4Vu6C",
    "outputId": "299f7dee-3c91-4578-e619-89d529a3b76b"
   },
   "outputs": [
    {
     "name": "stdout",
     "output_type": "stream",
     "text": [
      "Found 28821 images belonging to 7 classes.\n",
      "Found 7066 images belonging to 7 classes.\n"
     ]
    }
   ],
   "source": [
    "TARGET_SIZE = (48, 48)\n",
    "BATCH_SIZE = 128\n",
    "\n",
    "\n",
    "train_datagen = ImageDataGenerator(rescale = 1./255,\n",
    "                                   shear_range=.2,\n",
    "                                   zoom_range=.2,\n",
    "                                   width_shift_range = .1,\n",
    "                                   height_shift_range = .1,\n",
    "                                   rotation_range = 20,\n",
    "                                   horizontal_flip = True)\n",
    "\n",
    "validation_datagen = ImageDataGenerator(rescale= 1./255)\n",
    "\n",
    "train_generator = train_datagen.flow_from_directory(train_dir,\n",
    "                                                    target_size=TARGET_SIZE,\n",
    "                                                    color_mode=\"grayscale\",\n",
    "                                                    batch_size=BATCH_SIZE,\n",
    "                                                    class_mode='categorical',\n",
    "                                                    shuffle=True)\n",
    "\n",
    "validation_generator = validation_datagen.flow_from_directory(validation_dir,\n",
    "                                                    target_size=TARGET_SIZE,\n",
    "                                                    color_mode=\"grayscale\",\n",
    "                                                    batch_size=BATCH_SIZE,\n",
    "                                                    class_mode='categorical',\n",
    "                                                    shuffle=False)\n"
   ]
  },
  {
   "cell_type": "code",
   "execution_count": 8,
   "metadata": {
    "colab": {
     "base_uri": "https://localhost:8080/"
    },
    "executionInfo": {
     "elapsed": 3603,
     "status": "ok",
     "timestamp": 1651708346714,
     "user": {
      "displayName": "Onyedikachi Benjamin Ogbonna",
      "userId": "07189464990372282231"
     },
     "user_tz": -60
    },
    "id": "JUSHPi6xKaUF",
    "outputId": "77c4dbeb-1d7b-48b1-ee23-225101e7aef0"
   },
   "outputs": [
    {
     "name": "stderr",
     "output_type": "stream",
     "text": [
      "/usr/local/lib/python3.7/dist-packages/keras/optimizer_v2/adam.py:105: UserWarning: The `lr` argument is deprecated, use `learning_rate` instead.\n",
      "  super(Adam, self).__init__(name, **kwargs)\n"
     ]
    }
   ],
   "source": [
    "# second model: improved\n",
    "num_classes = 7 \n",
    "\n",
    "model_1 = Sequential()\n",
    "\n",
    "# 1 - Convolution\n",
    "model_1.add(Conv2D(64,(3,3), padding='same', input_shape=(48, 48,1)))\n",
    "model_1.add(BatchNormalization())\n",
    "model_1.add(Activation('relu'))\n",
    "model_1.add(MaxPooling2D(pool_size=(2, 2)))\n",
    "model_1.add(Dropout(0.25))\n",
    "\n",
    "# 2nd Convolution layer\n",
    "model_1.add(Conv2D(128,(5,5), padding='same'))\n",
    "model_1.add(BatchNormalization())\n",
    "model_1.add(Activation('relu'))\n",
    "model_1.add(MaxPooling2D(pool_size=(2, 2)))\n",
    "model_1.add(Dropout(0.25))\n",
    "\n",
    "# 3rd Convolution layer\n",
    "model_1.add(Conv2D(512,(3,3), padding='same'))\n",
    "model_1.add(BatchNormalization())\n",
    "model_1.add(Activation('relu'))\n",
    "model_1.add(MaxPooling2D(pool_size=(2, 2)))\n",
    "model_1.add(Dropout(0.25))\n",
    "\n",
    "# 4th Convolution layer\n",
    "model_1.add(Conv2D(512,(3,3), padding='same'))\n",
    "model_1.add(BatchNormalization())\n",
    "model_1.add(Activation('relu'))\n",
    "model_1.add(MaxPooling2D(pool_size=(2, 2)))\n",
    "model_1.add(Dropout(0.25))\n",
    "\n",
    "# Flattening\n",
    "model_1.add(Flatten())\n",
    "\n",
    "# Fully connected layer 1st layer\n",
    "model_1.add(Dense(256))\n",
    "model_1.add(BatchNormalization())\n",
    "model_1.add(Activation('relu'))\n",
    "model_1.add(Dropout(0.25))\n",
    "\n",
    "# Fully connected layer 2nd layer\n",
    "model_1.add(Dense(512))\n",
    "model_1.add(BatchNormalization())\n",
    "model_1.add(Activation('relu'))\n",
    "model_1.add(Dropout(0.25))\n",
    "\n",
    "model_1.add(Dense(num_classes, activation='softmax', name='model_1'))\n",
    "\n",
    "\n",
    "model_1.compile(loss=tf.keras.losses.CategoricalCrossentropy(),\n",
    "                optimizer=tf.keras.optimizers.Adam(lr=.0001),\n",
    "                metrics=['accuracy']\n",
    "                )"
   ]
  },
  {
   "cell_type": "code",
   "execution_count": 9,
   "metadata": {
    "colab": {
     "base_uri": "https://localhost:8080/"
    },
    "collapsed": true,
    "executionInfo": {
     "elapsed": 761,
     "status": "ok",
     "timestamp": 1651708350201,
     "user": {
      "displayName": "Onyedikachi Benjamin Ogbonna",
      "userId": "07189464990372282231"
     },
     "user_tz": -60
    },
    "id": "jpQ70soxd0hx",
    "outputId": "66b2c5c3-12ab-49d1-a104-7b6c00e4c53b"
   },
   "outputs": [
    {
     "name": "stdout",
     "output_type": "stream",
     "text": [
      "Model: \"sequential\"\n",
      "_________________________________________________________________\n",
      " Layer (type)                Output Shape              Param #   \n",
      "=================================================================\n",
      " conv2d (Conv2D)             (None, 48, 48, 64)        640       \n",
      "                                                                 \n",
      " batch_normalization (BatchN  (None, 48, 48, 64)       256       \n",
      " ormalization)                                                   \n",
      "                                                                 \n",
      " activation (Activation)     (None, 48, 48, 64)        0         \n",
      "                                                                 \n",
      " max_pooling2d (MaxPooling2D  (None, 24, 24, 64)       0         \n",
      " )                                                               \n",
      "                                                                 \n",
      " dropout (Dropout)           (None, 24, 24, 64)        0         \n",
      "                                                                 \n",
      " conv2d_1 (Conv2D)           (None, 24, 24, 128)       204928    \n",
      "                                                                 \n",
      " batch_normalization_1 (Batc  (None, 24, 24, 128)      512       \n",
      " hNormalization)                                                 \n",
      "                                                                 \n",
      " activation_1 (Activation)   (None, 24, 24, 128)       0         \n",
      "                                                                 \n",
      " max_pooling2d_1 (MaxPooling  (None, 12, 12, 128)      0         \n",
      " 2D)                                                             \n",
      "                                                                 \n",
      " dropout_1 (Dropout)         (None, 12, 12, 128)       0         \n",
      "                                                                 \n",
      " conv2d_2 (Conv2D)           (None, 12, 12, 512)       590336    \n",
      "                                                                 \n",
      " batch_normalization_2 (Batc  (None, 12, 12, 512)      2048      \n",
      " hNormalization)                                                 \n",
      "                                                                 \n",
      " activation_2 (Activation)   (None, 12, 12, 512)       0         \n",
      "                                                                 \n",
      " max_pooling2d_2 (MaxPooling  (None, 6, 6, 512)        0         \n",
      " 2D)                                                             \n",
      "                                                                 \n",
      " dropout_2 (Dropout)         (None, 6, 6, 512)         0         \n",
      "                                                                 \n",
      " conv2d_3 (Conv2D)           (None, 6, 6, 512)         2359808   \n",
      "                                                                 \n",
      " batch_normalization_3 (Batc  (None, 6, 6, 512)        2048      \n",
      " hNormalization)                                                 \n",
      "                                                                 \n",
      " activation_3 (Activation)   (None, 6, 6, 512)         0         \n",
      "                                                                 \n",
      " max_pooling2d_3 (MaxPooling  (None, 3, 3, 512)        0         \n",
      " 2D)                                                             \n",
      "                                                                 \n",
      " dropout_3 (Dropout)         (None, 3, 3, 512)         0         \n",
      "                                                                 \n",
      " flatten (Flatten)           (None, 4608)              0         \n",
      "                                                                 \n",
      " dense (Dense)               (None, 256)               1179904   \n",
      "                                                                 \n",
      " batch_normalization_4 (Batc  (None, 256)              1024      \n",
      " hNormalization)                                                 \n",
      "                                                                 \n",
      " activation_4 (Activation)   (None, 256)               0         \n",
      "                                                                 \n",
      " dropout_4 (Dropout)         (None, 256)               0         \n",
      "                                                                 \n",
      " dense_1 (Dense)             (None, 512)               131584    \n",
      "                                                                 \n",
      " batch_normalization_5 (Batc  (None, 512)              2048      \n",
      " hNormalization)                                                 \n",
      "                                                                 \n",
      " activation_5 (Activation)   (None, 512)               0         \n",
      "                                                                 \n",
      " dropout_5 (Dropout)         (None, 512)               0         \n",
      "                                                                 \n",
      " model_1 (Dense)             (None, 7)                 3591      \n",
      "                                                                 \n",
      "=================================================================\n",
      "Total params: 4,478,727\n",
      "Trainable params: 4,474,759\n",
      "Non-trainable params: 3,968\n",
      "_________________________________________________________________\n"
     ]
    }
   ],
   "source": [
    "model_1.summary()"
   ]
  },
  {
   "cell_type": "code",
   "execution_count": 10,
   "metadata": {
    "colab": {
     "base_uri": "https://localhost:8080/"
    },
    "collapsed": true,
    "executionInfo": {
     "elapsed": 3956916,
     "status": "ok",
     "timestamp": 1651712330232,
     "user": {
      "displayName": "Onyedikachi Benjamin Ogbonna",
      "userId": "07189464990372282231"
     },
     "user_tz": -60
    },
    "id": "qjwKEksbvQoF",
    "outputId": "90a739fe-d179-425c-eab7-30a5ca1a526d"
   },
   "outputs": [
    {
     "name": "stdout",
     "output_type": "stream",
     "text": [
      "Epoch 1/100\n",
      "225/225 [==============================] - ETA: 0s - loss: 2.0604 - accuracy: 0.2090INFO:tensorflow:Assets written to: model_experiments/sequential/assets\n",
      "225/225 [==============================] - 53s 179ms/step - loss: 2.0604 - accuracy: 0.2090 - val_loss: 1.8387 - val_accuracy: 0.2597 - lr: 1.0000e-04\n",
      "Epoch 2/100\n",
      "225/225 [==============================] - 35s 154ms/step - loss: 1.9244 - accuracy: 0.2408 - val_loss: 1.8458 - val_accuracy: 0.2132 - lr: 1.0000e-04\n",
      "Epoch 3/100\n",
      "225/225 [==============================] - ETA: 0s - loss: 1.8780 - accuracy: 0.2523INFO:tensorflow:Assets written to: model_experiments/sequential/assets\n",
      "225/225 [==============================] - 38s 169ms/step - loss: 1.8780 - accuracy: 0.2523 - val_loss: 1.7761 - val_accuracy: 0.2902 - lr: 1.0000e-04\n",
      "Epoch 4/100\n",
      "225/225 [==============================] - ETA: 0s - loss: 1.8386 - accuracy: 0.2660INFO:tensorflow:Assets written to: model_experiments/sequential/assets\n",
      "225/225 [==============================] - 38s 170ms/step - loss: 1.8386 - accuracy: 0.2660 - val_loss: 1.6977 - val_accuracy: 0.3284 - lr: 1.0000e-04\n",
      "Epoch 5/100\n",
      "225/225 [==============================] - ETA: 0s - loss: 1.8012 - accuracy: 0.2845INFO:tensorflow:Assets written to: model_experiments/sequential/assets\n",
      "225/225 [==============================] - 38s 170ms/step - loss: 1.8012 - accuracy: 0.2845 - val_loss: 1.6683 - val_accuracy: 0.3483 - lr: 1.0000e-04\n",
      "Epoch 6/100\n",
      "225/225 [==============================] - 34s 151ms/step - loss: 1.7630 - accuracy: 0.3015 - val_loss: 1.7266 - val_accuracy: 0.3504 - lr: 1.0000e-04\n",
      "Epoch 7/100\n",
      "225/225 [==============================] - 34s 151ms/step - loss: 1.7348 - accuracy: 0.3130 - val_loss: 1.6700 - val_accuracy: 0.3744 - lr: 1.0000e-04\n",
      "Epoch 8/100\n",
      "225/225 [==============================] - ETA: 0s - loss: 1.7032 - accuracy: 0.3272INFO:tensorflow:Assets written to: model_experiments/sequential/assets\n",
      "225/225 [==============================] - 38s 170ms/step - loss: 1.7032 - accuracy: 0.3272 - val_loss: 1.6013 - val_accuracy: 0.3932 - lr: 1.0000e-04\n",
      "Epoch 9/100\n",
      "225/225 [==============================] - ETA: 0s - loss: 1.6728 - accuracy: 0.3435INFO:tensorflow:Assets written to: model_experiments/sequential/assets\n",
      "225/225 [==============================] - 38s 168ms/step - loss: 1.6728 - accuracy: 0.3435 - val_loss: 1.6010 - val_accuracy: 0.3999 - lr: 1.0000e-04\n",
      "Epoch 10/100\n",
      "225/225 [==============================] - ETA: 0s - loss: 1.6443 - accuracy: 0.3550INFO:tensorflow:Assets written to: model_experiments/sequential/assets\n",
      "225/225 [==============================] - 38s 170ms/step - loss: 1.6443 - accuracy: 0.3550 - val_loss: 1.5172 - val_accuracy: 0.4170 - lr: 1.0000e-04\n",
      "Epoch 11/100\n",
      "225/225 [==============================] - 34s 150ms/step - loss: 1.6118 - accuracy: 0.3713 - val_loss: 1.5978 - val_accuracy: 0.4122 - lr: 1.0000e-04\n",
      "Epoch 12/100\n",
      "225/225 [==============================] - 34s 149ms/step - loss: 1.5811 - accuracy: 0.3824 - val_loss: 1.5327 - val_accuracy: 0.4230 - lr: 1.0000e-04\n",
      "Epoch 13/100\n",
      "225/225 [==============================] - ETA: 0s - loss: 1.5609 - accuracy: 0.3939INFO:tensorflow:Assets written to: model_experiments/sequential/assets\n",
      "225/225 [==============================] - 38s 169ms/step - loss: 1.5609 - accuracy: 0.3939 - val_loss: 1.4739 - val_accuracy: 0.4357 - lr: 1.0000e-04\n",
      "Epoch 14/100\n",
      "225/225 [==============================] - ETA: 0s - loss: 1.5276 - accuracy: 0.4097INFO:tensorflow:Assets written to: model_experiments/sequential/assets\n",
      "225/225 [==============================] - 38s 168ms/step - loss: 1.5276 - accuracy: 0.4097 - val_loss: 1.3994 - val_accuracy: 0.4572 - lr: 1.0000e-04\n",
      "Epoch 15/100\n",
      "225/225 [==============================] - ETA: 0s - loss: 1.5097 - accuracy: 0.4170INFO:tensorflow:Assets written to: model_experiments/sequential/assets\n",
      "225/225 [==============================] - 38s 170ms/step - loss: 1.5097 - accuracy: 0.4170 - val_loss: 1.3698 - val_accuracy: 0.4692 - lr: 1.0000e-04\n",
      "Epoch 16/100\n",
      "225/225 [==============================] - 34s 150ms/step - loss: 1.4791 - accuracy: 0.4274 - val_loss: 1.3899 - val_accuracy: 0.4723 - lr: 1.0000e-04\n",
      "Epoch 17/100\n",
      "225/225 [==============================] - ETA: 0s - loss: 1.4624 - accuracy: 0.4338INFO:tensorflow:Assets written to: model_experiments/sequential/assets\n",
      "225/225 [==============================] - 38s 169ms/step - loss: 1.4624 - accuracy: 0.4338 - val_loss: 1.2736 - val_accuracy: 0.5099 - lr: 1.0000e-04\n",
      "Epoch 18/100\n",
      "225/225 [==============================] - 34s 149ms/step - loss: 1.4352 - accuracy: 0.4479 - val_loss: 1.3454 - val_accuracy: 0.4979 - lr: 1.0000e-04\n",
      "Epoch 19/100\n",
      "225/225 [==============================] - 34s 149ms/step - loss: 1.4109 - accuracy: 0.4556 - val_loss: 1.2790 - val_accuracy: 0.5213 - lr: 1.0000e-04\n",
      "Epoch 20/100\n",
      "225/225 [==============================] - ETA: 0s - loss: 1.3928 - accuracy: 0.4634INFO:tensorflow:Assets written to: model_experiments/sequential/assets\n",
      "225/225 [==============================] - 38s 168ms/step - loss: 1.3928 - accuracy: 0.4634 - val_loss: 1.2561 - val_accuracy: 0.5256 - lr: 1.0000e-04\n",
      "Epoch 21/100\n",
      "225/225 [==============================] - ETA: 0s - loss: 1.3790 - accuracy: 0.4695INFO:tensorflow:Assets written to: model_experiments/sequential/assets\n",
      "225/225 [==============================] - 38s 168ms/step - loss: 1.3790 - accuracy: 0.4695 - val_loss: 1.2005 - val_accuracy: 0.5460 - lr: 1.0000e-04\n",
      "Epoch 22/100\n",
      "225/225 [==============================] - 34s 150ms/step - loss: 1.3690 - accuracy: 0.4716 - val_loss: 1.2011 - val_accuracy: 0.5446 - lr: 1.0000e-04\n",
      "Epoch 23/100\n",
      "225/225 [==============================] - 34s 150ms/step - loss: 1.3470 - accuracy: 0.4848 - val_loss: 1.2489 - val_accuracy: 0.5261 - lr: 1.0000e-04\n",
      "Epoch 24/100\n",
      "225/225 [==============================] - ETA: 0s - loss: 1.3355 - accuracy: 0.4880INFO:tensorflow:Assets written to: model_experiments/sequential/assets\n",
      "225/225 [==============================] - 38s 170ms/step - loss: 1.3355 - accuracy: 0.4880 - val_loss: 1.1750 - val_accuracy: 0.5560 - lr: 1.0000e-04\n",
      "Epoch 25/100\n",
      "225/225 [==============================] - 34s 151ms/step - loss: 1.3262 - accuracy: 0.4901 - val_loss: 1.2052 - val_accuracy: 0.5442 - lr: 1.0000e-04\n",
      "Epoch 26/100\n",
      "225/225 [==============================] - ETA: 0s - loss: 1.3111 - accuracy: 0.5001INFO:tensorflow:Assets written to: model_experiments/sequential/assets\n",
      "225/225 [==============================] - 38s 169ms/step - loss: 1.3111 - accuracy: 0.5001 - val_loss: 1.1550 - val_accuracy: 0.5673 - lr: 1.0000e-04\n",
      "Epoch 27/100\n",
      "225/225 [==============================] - 34s 149ms/step - loss: 1.3015 - accuracy: 0.5043 - val_loss: 1.1778 - val_accuracy: 0.5560 - lr: 1.0000e-04\n",
      "Epoch 28/100\n",
      "225/225 [==============================] - ETA: 0s - loss: 1.2868 - accuracy: 0.5088INFO:tensorflow:Assets written to: model_experiments/sequential/assets\n",
      "225/225 [==============================] - 38s 169ms/step - loss: 1.2868 - accuracy: 0.5088 - val_loss: 1.1292 - val_accuracy: 0.5724 - lr: 1.0000e-04\n",
      "Epoch 29/100\n",
      "225/225 [==============================] - 34s 151ms/step - loss: 1.2810 - accuracy: 0.5090 - val_loss: 1.1978 - val_accuracy: 0.5385 - lr: 1.0000e-04\n",
      "Epoch 30/100\n",
      "225/225 [==============================] - ETA: 0s - loss: 1.2686 - accuracy: 0.5135INFO:tensorflow:Assets written to: model_experiments/sequential/assets\n",
      "225/225 [==============================] - 38s 169ms/step - loss: 1.2686 - accuracy: 0.5135 - val_loss: 1.1182 - val_accuracy: 0.5744 - lr: 1.0000e-04\n",
      "Epoch 31/100\n",
      "225/225 [==============================] - 34s 151ms/step - loss: 1.2575 - accuracy: 0.5204 - val_loss: 1.1416 - val_accuracy: 0.5614 - lr: 1.0000e-04\n",
      "Epoch 32/100\n",
      "225/225 [==============================] - ETA: 0s - loss: 1.2504 - accuracy: 0.5214INFO:tensorflow:Assets written to: model_experiments/sequential/assets\n",
      "225/225 [==============================] - 38s 170ms/step - loss: 1.2504 - accuracy: 0.5214 - val_loss: 1.1161 - val_accuracy: 0.5729 - lr: 1.0000e-04\n",
      "Epoch 33/100\n",
      "225/225 [==============================] - 34s 150ms/step - loss: 1.2403 - accuracy: 0.5263 - val_loss: 1.1304 - val_accuracy: 0.5659 - lr: 1.0000e-04\n",
      "Epoch 34/100\n",
      "225/225 [==============================] - 34s 150ms/step - loss: 1.2336 - accuracy: 0.5285 - val_loss: 1.1362 - val_accuracy: 0.5619 - lr: 1.0000e-04\n",
      "Epoch 35/100\n",
      "225/225 [==============================] - 34s 150ms/step - loss: 1.2288 - accuracy: 0.5295 - val_loss: 1.1197 - val_accuracy: 0.5750 - lr: 1.0000e-04\n",
      "Epoch 36/100\n",
      "225/225 [==============================] - ETA: 0s - loss: 1.2137 - accuracy: 0.5387INFO:tensorflow:Assets written to: model_experiments/sequential/assets\n",
      "225/225 [==============================] - 38s 168ms/step - loss: 1.2137 - accuracy: 0.5387 - val_loss: 1.0696 - val_accuracy: 0.5973 - lr: 1.0000e-04\n",
      "Epoch 37/100\n",
      "225/225 [==============================] - 34s 150ms/step - loss: 1.2125 - accuracy: 0.5368 - val_loss: 1.1560 - val_accuracy: 0.5604 - lr: 1.0000e-04\n",
      "Epoch 38/100\n",
      "225/225 [==============================] - 34s 149ms/step - loss: 1.2016 - accuracy: 0.5389 - val_loss: 1.0706 - val_accuracy: 0.5943 - lr: 1.0000e-04\n",
      "Epoch 39/100\n",
      "225/225 [==============================] - 34s 151ms/step - loss: 1.2000 - accuracy: 0.5432 - val_loss: 1.0816 - val_accuracy: 0.5861 - lr: 1.0000e-04\n",
      "Epoch 40/100\n",
      "225/225 [==============================] - 36s 161ms/step - loss: 1.1950 - accuracy: 0.5405 - val_loss: 1.0829 - val_accuracy: 0.5947 - lr: 1.0000e-04\n",
      "Epoch 41/100\n",
      "225/225 [==============================] - 34s 151ms/step - loss: 1.1848 - accuracy: 0.5439 - val_loss: 1.0721 - val_accuracy: 0.5993 - lr: 1.0000e-04\n",
      "Epoch 42/100\n",
      "225/225 [==============================] - ETA: 0s - loss: 1.1741 - accuracy: 0.5517INFO:tensorflow:Assets written to: model_experiments/sequential/assets\n",
      "225/225 [==============================] - 38s 167ms/step - loss: 1.1741 - accuracy: 0.5517 - val_loss: 1.0558 - val_accuracy: 0.6026 - lr: 1.0000e-04\n",
      "Epoch 43/100\n",
      "225/225 [==============================] - 34s 149ms/step - loss: 1.1729 - accuracy: 0.5509 - val_loss: 1.0762 - val_accuracy: 0.5960 - lr: 1.0000e-04\n",
      "Epoch 44/100\n",
      "225/225 [==============================] - 34s 151ms/step - loss: 1.1693 - accuracy: 0.5558 - val_loss: 1.0609 - val_accuracy: 0.6010 - lr: 1.0000e-04\n",
      "Epoch 45/100\n",
      "225/225 [==============================] - ETA: 0s - loss: 1.1579 - accuracy: 0.5575INFO:tensorflow:Assets written to: model_experiments/sequential/assets\n",
      "225/225 [==============================] - 38s 170ms/step - loss: 1.1579 - accuracy: 0.5575 - val_loss: 1.0345 - val_accuracy: 0.6101 - lr: 1.0000e-04\n",
      "Epoch 46/100\n",
      "225/225 [==============================] - 34s 149ms/step - loss: 1.1556 - accuracy: 0.5617 - val_loss: 1.0880 - val_accuracy: 0.5814 - lr: 1.0000e-04\n",
      "Epoch 47/100\n",
      "225/225 [==============================] - 34s 150ms/step - loss: 1.1553 - accuracy: 0.5626 - val_loss: 1.0761 - val_accuracy: 0.5949 - lr: 1.0000e-04\n",
      "Epoch 48/100\n",
      "225/225 [==============================] - 34s 149ms/step - loss: 1.1468 - accuracy: 0.5639 - val_loss: 1.0858 - val_accuracy: 0.5913 - lr: 1.0000e-04\n",
      "Epoch 49/100\n",
      "225/225 [==============================] - ETA: 0s - loss: 1.1429 - accuracy: 0.5658INFO:tensorflow:Assets written to: model_experiments/sequential/assets\n",
      "225/225 [==============================] - 38s 168ms/step - loss: 1.1429 - accuracy: 0.5658 - val_loss: 1.0254 - val_accuracy: 0.6122 - lr: 1.0000e-04\n",
      "Epoch 50/100\n",
      "225/225 [==============================] - 34s 149ms/step - loss: 1.1398 - accuracy: 0.5658 - val_loss: 1.0281 - val_accuracy: 0.6081 - lr: 1.0000e-04\n",
      "Epoch 51/100\n",
      "225/225 [==============================] - ETA: 0s - loss: 1.1344 - accuracy: 0.5677INFO:tensorflow:Assets written to: model_experiments/sequential/assets\n",
      "225/225 [==============================] - 38s 169ms/step - loss: 1.1344 - accuracy: 0.5677 - val_loss: 1.0032 - val_accuracy: 0.6276 - lr: 1.0000e-04\n",
      "Epoch 52/100\n",
      "225/225 [==============================] - 34s 150ms/step - loss: 1.1266 - accuracy: 0.5715 - val_loss: 1.0173 - val_accuracy: 0.6176 - lr: 1.0000e-04\n",
      "Epoch 53/100\n",
      "225/225 [==============================] - 34s 150ms/step - loss: 1.1226 - accuracy: 0.5728 - val_loss: 1.0487 - val_accuracy: 0.6033 - lr: 1.0000e-04\n",
      "Epoch 54/100\n",
      "225/225 [==============================] - 36s 161ms/step - loss: 1.1190 - accuracy: 0.5739 - val_loss: 1.0612 - val_accuracy: 0.5929 - lr: 1.0000e-04\n",
      "Epoch 55/100\n",
      "225/225 [==============================] - 34s 149ms/step - loss: 1.1111 - accuracy: 0.5779 - val_loss: 1.0041 - val_accuracy: 0.6249 - lr: 1.0000e-04\n",
      "Epoch 56/100\n",
      "225/225 [==============================] - ETA: 0s - loss: 1.1131 - accuracy: 0.5776INFO:tensorflow:Assets written to: model_experiments/sequential/assets\n",
      "225/225 [==============================] - 38s 169ms/step - loss: 1.1131 - accuracy: 0.5776 - val_loss: 1.0018 - val_accuracy: 0.6237 - lr: 1.0000e-04\n",
      "Epoch 57/100\n",
      "225/225 [==============================] - ETA: 0s - loss: 1.1048 - accuracy: 0.5826INFO:tensorflow:Assets written to: model_experiments/sequential/assets\n",
      "225/225 [==============================] - 38s 169ms/step - loss: 1.1048 - accuracy: 0.5826 - val_loss: 1.0017 - val_accuracy: 0.6270 - lr: 1.0000e-04\n",
      "Epoch 58/100\n",
      "225/225 [==============================] - ETA: 0s - loss: 1.1017 - accuracy: 0.5809INFO:tensorflow:Assets written to: model_experiments/sequential/assets\n",
      "225/225 [==============================] - 41s 180ms/step - loss: 1.1017 - accuracy: 0.5809 - val_loss: 0.9859 - val_accuracy: 0.6273 - lr: 1.0000e-04\n",
      "Epoch 59/100\n",
      "225/225 [==============================] - 34s 149ms/step - loss: 1.1012 - accuracy: 0.5818 - val_loss: 1.0055 - val_accuracy: 0.6199 - lr: 1.0000e-04\n",
      "Epoch 60/100\n",
      "225/225 [==============================] - 34s 149ms/step - loss: 1.0952 - accuracy: 0.5831 - val_loss: 0.9972 - val_accuracy: 0.6239 - lr: 1.0000e-04\n",
      "Epoch 61/100\n",
      "225/225 [==============================] - 34s 149ms/step - loss: 1.0905 - accuracy: 0.5877 - val_loss: 1.0128 - val_accuracy: 0.6209 - lr: 1.0000e-04\n",
      "Epoch 62/100\n",
      "225/225 [==============================] - 34s 150ms/step - loss: 1.0926 - accuracy: 0.5850 - val_loss: 1.0266 - val_accuracy: 0.6102 - lr: 1.0000e-04\n",
      "Epoch 63/100\n",
      "225/225 [==============================] - 35s 157ms/step - loss: 1.0844 - accuracy: 0.5902 - val_loss: 1.0016 - val_accuracy: 0.6165 - lr: 1.0000e-04\n",
      "Epoch 64/100\n",
      "225/225 [==============================] - 34s 151ms/step - loss: 1.0819 - accuracy: 0.5909 - val_loss: 1.0053 - val_accuracy: 0.6212 - lr: 1.0000e-04\n",
      "Epoch 65/100\n",
      "225/225 [==============================] - 34s 150ms/step - loss: 1.0825 - accuracy: 0.5886 - val_loss: 0.9999 - val_accuracy: 0.6243 - lr: 1.0000e-04\n",
      "Epoch 66/100\n",
      "225/225 [==============================] - 34s 150ms/step - loss: 1.0765 - accuracy: 0.5913 - val_loss: 0.9964 - val_accuracy: 0.6247 - lr: 1.0000e-04\n",
      "Epoch 67/100\n",
      "225/225 [==============================] - 47s 209ms/step - loss: 1.0756 - accuracy: 0.5915 - val_loss: 1.0035 - val_accuracy: 0.6178 - lr: 1.0000e-04\n",
      "Epoch 68/100\n",
      "225/225 [==============================] - 34s 152ms/step - loss: 1.0659 - accuracy: 0.5948 - val_loss: 1.0020 - val_accuracy: 0.6227 - lr: 1.0000e-04\n",
      "Epoch 69/100\n",
      "225/225 [==============================] - ETA: 0s - loss: 1.0704 - accuracy: 0.5938INFO:tensorflow:Assets written to: model_experiments/sequential/assets\n",
      "225/225 [==============================] - 39s 173ms/step - loss: 1.0704 - accuracy: 0.5938 - val_loss: 0.9575 - val_accuracy: 0.6445 - lr: 1.0000e-04\n",
      "Epoch 70/100\n",
      "225/225 [==============================] - 34s 150ms/step - loss: 1.0616 - accuracy: 0.5953 - val_loss: 1.0522 - val_accuracy: 0.6027 - lr: 1.0000e-04\n",
      "Epoch 71/100\n",
      "225/225 [==============================] - 46s 205ms/step - loss: 1.0585 - accuracy: 0.5957 - val_loss: 1.0018 - val_accuracy: 0.6260 - lr: 1.0000e-04\n",
      "Epoch 72/100\n",
      "225/225 [==============================] - 43s 192ms/step - loss: 1.0569 - accuracy: 0.6010 - val_loss: 0.9701 - val_accuracy: 0.6411 - lr: 1.0000e-04\n",
      "Epoch 73/100\n",
      "225/225 [==============================] - 39s 173ms/step - loss: 1.0463 - accuracy: 0.6037 - val_loss: 0.9789 - val_accuracy: 0.6348 - lr: 1.0000e-04\n",
      "Epoch 74/100\n",
      "225/225 [==============================] - ETA: 0s - loss: 1.0502 - accuracy: 0.6024INFO:tensorflow:Assets written to: model_experiments/sequential/assets\n",
      "225/225 [==============================] - 39s 174ms/step - loss: 1.0502 - accuracy: 0.6024 - val_loss: 0.9491 - val_accuracy: 0.6500 - lr: 1.0000e-04\n",
      "Epoch 75/100\n",
      "225/225 [==============================] - 34s 150ms/step - loss: 1.0423 - accuracy: 0.6060 - val_loss: 1.0034 - val_accuracy: 0.6307 - lr: 1.0000e-04\n",
      "Epoch 76/100\n",
      "225/225 [==============================] - 35s 154ms/step - loss: 1.0436 - accuracy: 0.6042 - val_loss: 1.0056 - val_accuracy: 0.6197 - lr: 1.0000e-04\n",
      "Epoch 77/100\n",
      "225/225 [==============================] - 46s 206ms/step - loss: 1.0441 - accuracy: 0.6036 - val_loss: 0.9879 - val_accuracy: 0.6345 - lr: 1.0000e-04\n",
      "Epoch 78/100\n",
      "225/225 [==============================] - 34s 150ms/step - loss: 1.0391 - accuracy: 0.6049 - val_loss: 0.9614 - val_accuracy: 0.6440 - lr: 1.0000e-04\n",
      "Epoch 79/100\n",
      "225/225 [==============================] - 36s 159ms/step - loss: 1.0317 - accuracy: 0.6087 - val_loss: 0.9649 - val_accuracy: 0.6368 - lr: 1.0000e-04\n",
      "Epoch 80/100\n",
      "225/225 [==============================] - 33s 148ms/step - loss: 1.0297 - accuracy: 0.6079 - val_loss: 0.9776 - val_accuracy: 0.6406 - lr: 1.0000e-04\n",
      "Epoch 81/100\n",
      "225/225 [==============================] - 34s 149ms/step - loss: 1.0253 - accuracy: 0.6115 - val_loss: 0.9699 - val_accuracy: 0.6321 - lr: 1.0000e-04\n",
      "Epoch 82/100\n",
      "225/225 [==============================] - 37s 164ms/step - loss: 1.0293 - accuracy: 0.6100 - val_loss: 1.0262 - val_accuracy: 0.6166 - lr: 1.0000e-04\n",
      "Epoch 83/100\n",
      "225/225 [==============================] - 34s 151ms/step - loss: 1.0258 - accuracy: 0.6091 - val_loss: 0.9551 - val_accuracy: 0.6473 - lr: 1.0000e-04\n",
      "Epoch 84/100\n",
      "225/225 [==============================] - 34s 151ms/step - loss: 1.0225 - accuracy: 0.6133 - val_loss: 0.9525 - val_accuracy: 0.6489 - lr: 1.0000e-04\n",
      "Epoch 85/100\n",
      "225/225 [==============================] - 34s 151ms/step - loss: 1.0144 - accuracy: 0.6154 - val_loss: 0.9548 - val_accuracy: 0.6403 - lr: 1.0000e-04\n",
      "Epoch 86/100\n",
      "225/225 [==============================] - 34s 150ms/step - loss: 1.0210 - accuracy: 0.6128 - val_loss: 0.9782 - val_accuracy: 0.6345 - lr: 1.0000e-04\n",
      "Epoch 87/100\n",
      "225/225 [==============================] - 34s 150ms/step - loss: 1.0237 - accuracy: 0.6137 - val_loss: 0.9681 - val_accuracy: 0.6438 - lr: 1.0000e-04\n",
      "Epoch 88/100\n",
      "225/225 [==============================] - 34s 150ms/step - loss: 1.0101 - accuracy: 0.6208 - val_loss: 0.9527 - val_accuracy: 0.6521 - lr: 1.0000e-04\n",
      "Epoch 89/100\n",
      "225/225 [==============================] - 34s 150ms/step - loss: 1.0150 - accuracy: 0.6175 - val_loss: 0.9506 - val_accuracy: 0.6440 - lr: 1.0000e-04\n",
      "Epoch 90/100\n",
      "225/225 [==============================] - ETA: 0s - loss: 1.0112 - accuracy: 0.6156INFO:tensorflow:Assets written to: model_experiments/sequential/assets\n",
      "225/225 [==============================] - 38s 169ms/step - loss: 1.0112 - accuracy: 0.6156 - val_loss: 0.9463 - val_accuracy: 0.6517 - lr: 1.0000e-04\n",
      "Epoch 91/100\n",
      "225/225 [==============================] - ETA: 0s - loss: 1.0058 - accuracy: 0.6186INFO:tensorflow:Assets written to: model_experiments/sequential/assets\n",
      "225/225 [==============================] - 38s 169ms/step - loss: 1.0058 - accuracy: 0.6186 - val_loss: 0.9430 - val_accuracy: 0.6513 - lr: 1.0000e-04\n",
      "Epoch 92/100\n",
      "225/225 [==============================] - 34s 151ms/step - loss: 1.0023 - accuracy: 0.6191 - val_loss: 0.9656 - val_accuracy: 0.6345 - lr: 1.0000e-04\n",
      "Epoch 93/100\n",
      "225/225 [==============================] - 34s 151ms/step - loss: 1.0026 - accuracy: 0.6215 - val_loss: 0.9685 - val_accuracy: 0.6480 - lr: 1.0000e-04\n",
      "Epoch 94/100\n",
      "225/225 [==============================] - ETA: 0s - loss: 0.9963 - accuracy: 0.6257INFO:tensorflow:Assets written to: model_experiments/sequential/assets\n",
      "225/225 [==============================] - 38s 170ms/step - loss: 0.9963 - accuracy: 0.6257 - val_loss: 0.9406 - val_accuracy: 0.6526 - lr: 1.0000e-04\n",
      "Epoch 95/100\n",
      "225/225 [==============================] - 34s 150ms/step - loss: 1.0026 - accuracy: 0.6226 - val_loss: 0.9449 - val_accuracy: 0.6507 - lr: 1.0000e-04\n",
      "Epoch 96/100\n",
      "225/225 [==============================] - 34s 151ms/step - loss: 0.9968 - accuracy: 0.6242 - val_loss: 0.9473 - val_accuracy: 0.6510 - lr: 1.0000e-04\n",
      "Epoch 97/100\n",
      "225/225 [==============================] - 34s 151ms/step - loss: 0.9939 - accuracy: 0.6241 - val_loss: 0.9574 - val_accuracy: 0.6445 - lr: 1.0000e-04\n",
      "Epoch 98/100\n",
      "225/225 [==============================] - 34s 151ms/step - loss: 0.9929 - accuracy: 0.6265 - val_loss: 0.9483 - val_accuracy: 0.6386 - lr: 1.0000e-04\n",
      "Epoch 99/100\n",
      "225/225 [==============================] - ETA: 0s - loss: 0.9825 - accuracy: 0.6290INFO:tensorflow:Assets written to: model_experiments/sequential/assets\n",
      "225/225 [==============================] - 41s 181ms/step - loss: 0.9825 - accuracy: 0.6290 - val_loss: 0.9389 - val_accuracy: 0.6531 - lr: 1.0000e-04\n",
      "Epoch 100/100\n",
      "225/225 [==============================] - 34s 151ms/step - loss: 0.9884 - accuracy: 0.6268 - val_loss: 0.9645 - val_accuracy: 0.6415 - lr: 1.0000e-04\n",
      "CPU times: user 1h 17min 58s, sys: 4min 24s, total: 1h 22min 23s\n",
      "Wall time: 1h 5min 56s\n"
     ]
    }
   ],
   "source": [
    "%%time\n",
    "\n",
    "epochs = 100\n",
    "\n",
    "callbacks_list = [create_model_checkpoint(model_name=model_1.name), early_stopping, reduce_plateau]\n",
    "\n",
    "\n",
    "model_1_history = model_1.fit(train_generator,\n",
    "                              steps_per_epoch=train_generator.n//train_generator.batch_size,\n",
    "                              epochs=epochs,\n",
    "                              validation_data = validation_generator,\n",
    "                              validation_steps = validation_generator.n//validation_generator.batch_size,\n",
    "                              callbacks=callbacks_list)"
   ]
  },
  {
   "cell_type": "code",
   "execution_count": 11,
   "metadata": {
    "colab": {
     "base_uri": "https://localhost:8080/",
     "height": 500
    },
    "executionInfo": {
     "elapsed": 676,
     "status": "ok",
     "timestamp": 1651712338475,
     "user": {
      "displayName": "Onyedikachi Benjamin Ogbonna",
      "userId": "07189464990372282231"
     },
     "user_tz": -60
    },
    "id": "umRunxLbvQoH",
    "outputId": "7a35a4d9-4cb2-4a9e-a29b-c7232df55362"
   },
   "outputs": [
    {
     "data": {
      "text/plain": [
       "<matplotlib.axes._subplots.AxesSubplot at 0x7fd4c36db450>"
      ]
     },
     "execution_count": 11,
     "metadata": {},
     "output_type": "execute_result"
    },
    {
     "data": {
      "image/png": "[encoded data removed]",
      "text/plain": [
       "<Figure size 864x576 with 1 Axes>"
      ]
     },
     "metadata": {
      "needs_background": "light"
     },
     "output_type": "display_data"
    }
   ],
   "source": [
    "pd.DataFrame(model_1_history.history).plot(figsize=(12, 8))"
   ]
  },
  {
   "cell_type": "code",
   "execution_count": 12,
   "metadata": {
    "colab": {
     "base_uri": "https://localhost:8080/"
    },
    "executionInfo": {
     "elapsed": 5326,
     "status": "ok",
     "timestamp": 1651712357895,
     "user": {
      "displayName": "Onyedikachi Benjamin Ogbonna",
      "userId": "07189464990372282231"
     },
     "user_tz": -60
    },
    "id": "leZRSPkf73KH",
    "outputId": "b21b0ff7-a99a-4f6c-d56c-cf1d3933ab51"
   },
   "outputs": [
    {
     "name": "stdout",
     "output_type": "stream",
     "text": [
      "56/56 [==============================] - 4s 62ms/step - loss: 0.9646 - accuracy: 0.6417\n"
     ]
    },
    {
     "data": {
      "text/plain": [
       "[0.9645597338676453, 0.6416643261909485]"
      ]
     },
     "execution_count": 12,
     "metadata": {},
     "output_type": "execute_result"
    }
   ],
   "source": [
    "model_1.evaluate(validation_generator)"
   ]
  },
  {
   "cell_type": "code",
   "execution_count": 14,
   "metadata": {
    "colab": {
     "base_uri": "https://localhost:8080/"
    },
    "executionInfo": {
     "elapsed": 10203,
     "status": "ok",
     "timestamp": 1651712448765,
     "user": {
      "displayName": "Onyedikachi Benjamin Ogbonna",
      "userId": "07189464990372282231"
     },
     "user_tz": -60
    },
    "id": "tbQwrc4Ip3E0",
    "outputId": "b833a11f-b06f-4806-c3f9-e621caeb0c89"
   },
   "outputs": [
    {
     "name": "stdout",
     "output_type": "stream",
     "text": [
      "56/56 [==============================] - 5s 83ms/step - loss: 0.9382 - accuracy: 0.6536\n"
     ]
    },
    {
     "data": {
      "text/plain": [
       "[0.9382252097129822, 0.653552234172821]"
      ]
     },
     "execution_count": 14,
     "metadata": {},
     "output_type": "execute_result"
    }
   ],
   "source": [
    "saved_model = tf.keras.models.load_model('model_experiments/sequential/')\n",
    "saved_model.evaluate(validation_generator)"
   ]
  },
  {
   "cell_type": "code",
   "execution_count": 15,
   "metadata": {
    "executionInfo": {
     "elapsed": 359,
     "status": "ok",
     "timestamp": 1651712481630,
     "user": {
      "displayName": "Onyedikachi Benjamin Ogbonna",
      "userId": "07189464990372282231"
     },
     "user_tz": -60
    },
    "id": "GTNwveHm8gUC"
   },
   "outputs": [],
   "source": [
    "location = '/content/drive/MyDrive/Colab Notebooks/Face_expression_recognition_project/saved_models/model.h5'\n",
    "\n",
    "saved_model.save(location)"
   ]
  },
  {
   "cell_type": "code",
   "execution_count": null,
   "metadata": {
    "colab": {
     "base_uri": "https://localhost:8080/"
    },
    "executionInfo": {
     "elapsed": 296,
     "status": "ok",
     "timestamp": 1646397857665,
     "user": {
      "displayName": "Onyedikachi Benjamin Ogbonna",
      "photoUrl": "https://lh3.googleusercontent.com/a-/AOh14GjnqEURrzgqZWD7PCgpcMXmekHRItI9AdopHP0dAg=s64",
      "userId": "07189464990372282231"
     },
     "user_tz": -60
    },
    "id": "zUDqgh-88H8s",
    "outputId": "5975e6f9-5546-47e8-a488-efb14ce8322c"
   },
   "outputs": [
    {
     "name": "stderr",
     "output_type": "stream",
     "text": [
      "/usr/local/lib/python3.7/dist-packages/keras/optimizer_v2/adam.py:105: UserWarning: The `lr` argument is deprecated, use `learning_rate` instead.\n",
      "  super(Adam, self).__init__(name, **kwargs)\n"
     ]
    }
   ],
   "source": [
    "num_train = 28709\n",
    "num_val = 7178\n",
    "batch_size = 64\n",
    "num_epoch = 50\n",
    "\n",
    "model_2 = Sequential()\n",
    "\n",
    "model_2.add(Conv2D(32, kernel_size=(3, 3), activation='relu', input_shape=(48,48,1)))\n",
    "model_2.add(Conv2D(64, kernel_size=(3, 3), activation='relu'))\n",
    "model_2.add(MaxPooling2D(pool_size=(2, 2)))\n",
    "model_2.add(Dropout(0.25))\n",
    "\n",
    "model_2.add(Conv2D(128, kernel_size=(3, 3), activation='relu'))\n",
    "model_2.add(MaxPooling2D(pool_size=(2, 2)))\n",
    "model_2.add(Conv2D(128, kernel_size=(3, 3), activation='relu'))\n",
    "model_2.add(MaxPooling2D(pool_size=(2, 2)))\n",
    "model_2.add(Dropout(0.25))\n",
    "\n",
    "model_2.add(Flatten())\n",
    "model_2.add(Dense(1024, activation='relu'))\n",
    "model_2.add(Dropout(0.5))\n",
    "model_2.add(Dense(7, activation='softmax'))\n",
    "\n",
    "\n",
    "model_2.compile(loss='categorical_crossentropy', optimizer=tf.keras.optimizers.Adam(lr=0.0001, decay=1e-6),metrics=['accuracy'])"
   ]
  },
  {
   "cell_type": "code",
   "execution_count": null,
   "metadata": {
    "colab": {
     "base_uri": "https://localhost:8080/"
    },
    "executionInfo": {
     "elapsed": 994915,
     "status": "ok",
     "timestamp": 1646398859977,
     "user": {
      "displayName": "Onyedikachi Benjamin Ogbonna",
      "photoUrl": "https://lh3.googleusercontent.com/a-/AOh14GjnqEURrzgqZWD7PCgpcMXmekHRItI9AdopHP0dAg=s64",
      "userId": "07189464990372282231"
     },
     "user_tz": -60
    },
    "id": "hCKPup778_qt",
    "outputId": "6cef225d-5146-4f31-c73a-8340fb4c0583"
   },
   "outputs": [
    {
     "name": "stdout",
     "output_type": "stream",
     "text": [
      "Epoch 1/50\n"
     ]
    },
    {
     "name": "stderr",
     "output_type": "stream",
     "text": [
      "/usr/local/lib/python3.7/dist-packages/ipykernel_launcher.py:6: UserWarning: `Model.fit_generator` is deprecated and will be removed in a future version. Please use `Model.fit`, which supports generators.\n",
      "  \n"
     ]
    },
    {
     "name": "stdout",
     "output_type": "stream",
     "text": [
      "448/448 [==============================] - 21s 44ms/step - loss: 1.8332 - accuracy: 0.2371 - val_loss: 1.7713 - val_accuracy: 0.4171\n",
      "Epoch 2/50\n",
      "448/448 [==============================] - 19s 43ms/step - loss: 1.7905 - accuracy: 0.2631 - val_loss: 1.8324 - val_accuracy: 0.2321\n",
      "Epoch 3/50\n",
      "448/448 [==============================] - 19s 42ms/step - loss: 1.7555 - accuracy: 0.2762 - val_loss: 1.6715 - val_accuracy: 0.3831\n",
      "Epoch 4/50\n",
      "448/448 [==============================] - 19s 43ms/step - loss: 1.7030 - accuracy: 0.3083 - val_loss: 1.7097 - val_accuracy: 0.3301\n",
      "Epoch 5/50\n",
      "448/448 [==============================] - 19s 43ms/step - loss: 1.6702 - accuracy: 0.3301 - val_loss: 1.5363 - val_accuracy: 0.4085\n",
      "Epoch 6/50\n",
      "448/448 [==============================] - 20s 45ms/step - loss: 1.6335 - accuracy: 0.3533 - val_loss: 1.4871 - val_accuracy: 0.4138\n",
      "Epoch 7/50\n",
      "448/448 [==============================] - 19s 43ms/step - loss: 1.5902 - accuracy: 0.3747 - val_loss: 1.4264 - val_accuracy: 0.4573\n",
      "Epoch 8/50\n",
      "448/448 [==============================] - 19s 43ms/step - loss: 1.5580 - accuracy: 0.3918 - val_loss: 1.4366 - val_accuracy: 0.4308\n",
      "Epoch 9/50\n",
      "448/448 [==============================] - 19s 43ms/step - loss: 1.5371 - accuracy: 0.4036 - val_loss: 1.4023 - val_accuracy: 0.4515\n",
      "Epoch 10/50\n",
      "448/448 [==============================] - 19s 43ms/step - loss: 1.5019 - accuracy: 0.4156 - val_loss: 1.4139 - val_accuracy: 0.4470\n",
      "Epoch 11/50\n",
      "448/448 [==============================] - 21s 46ms/step - loss: 1.4908 - accuracy: 0.4206 - val_loss: 1.4564 - val_accuracy: 0.4118\n",
      "Epoch 12/50\n",
      "448/448 [==============================] - 19s 43ms/step - loss: 1.4670 - accuracy: 0.4373 - val_loss: 1.3755 - val_accuracy: 0.4520\n",
      "Epoch 13/50\n",
      "448/448 [==============================] - 19s 43ms/step - loss: 1.4390 - accuracy: 0.4450 - val_loss: 1.3469 - val_accuracy: 0.4657\n",
      "Epoch 14/50\n",
      "448/448 [==============================] - 20s 44ms/step - loss: 1.4317 - accuracy: 0.4536 - val_loss: 1.3394 - val_accuracy: 0.4741\n",
      "Epoch 15/50\n",
      "448/448 [==============================] - 19s 42ms/step - loss: 1.4062 - accuracy: 0.4618 - val_loss: 1.3508 - val_accuracy: 0.4626\n",
      "Epoch 16/50\n",
      "448/448 [==============================] - 19s 42ms/step - loss: 1.4009 - accuracy: 0.4658 - val_loss: 1.2114 - val_accuracy: 0.5142\n",
      "Epoch 17/50\n",
      "448/448 [==============================] - 19s 43ms/step - loss: 1.3786 - accuracy: 0.4742 - val_loss: 1.2447 - val_accuracy: 0.5070\n",
      "Epoch 18/50\n",
      "448/448 [==============================] - 19s 42ms/step - loss: 1.3641 - accuracy: 0.4757 - val_loss: 1.2545 - val_accuracy: 0.5092\n",
      "Epoch 19/50\n",
      "448/448 [==============================] - 19s 42ms/step - loss: 1.3618 - accuracy: 0.4826 - val_loss: 1.2057 - val_accuracy: 0.5282\n",
      "Epoch 20/50\n",
      "448/448 [==============================] - 19s 42ms/step - loss: 1.3390 - accuracy: 0.4893 - val_loss: 1.1824 - val_accuracy: 0.5279\n",
      "Epoch 21/50\n",
      "448/448 [==============================] - 19s 42ms/step - loss: 1.3394 - accuracy: 0.4917 - val_loss: 1.1800 - val_accuracy: 0.5304\n",
      "Epoch 22/50\n",
      "448/448 [==============================] - 19s 42ms/step - loss: 1.3232 - accuracy: 0.4946 - val_loss: 1.1670 - val_accuracy: 0.5340\n",
      "Epoch 23/50\n",
      "448/448 [==============================] - 19s 42ms/step - loss: 1.3233 - accuracy: 0.5009 - val_loss: 1.1150 - val_accuracy: 0.5631\n",
      "Epoch 24/50\n",
      "448/448 [==============================] - 19s 42ms/step - loss: 1.3087 - accuracy: 0.5004 - val_loss: 1.1572 - val_accuracy: 0.5371\n",
      "Epoch 25/50\n",
      "448/448 [==============================] - 19s 42ms/step - loss: 1.2967 - accuracy: 0.5046 - val_loss: 1.1894 - val_accuracy: 0.5273\n",
      "Epoch 26/50\n",
      "448/448 [==============================] - 19s 42ms/step - loss: 1.3103 - accuracy: 0.4970 - val_loss: 1.1444 - val_accuracy: 0.5424\n",
      "Epoch 27/50\n",
      "448/448 [==============================] - 19s 42ms/step - loss: 1.2813 - accuracy: 0.5127 - val_loss: 1.1694 - val_accuracy: 0.5326\n",
      "Epoch 28/50\n",
      "448/448 [==============================] - 19s 42ms/step - loss: 1.2746 - accuracy: 0.5131 - val_loss: 1.1251 - val_accuracy: 0.5536\n",
      "Epoch 29/50\n",
      "448/448 [==============================] - 19s 42ms/step - loss: 1.2820 - accuracy: 0.5183 - val_loss: 1.1403 - val_accuracy: 0.5368\n",
      "Epoch 30/50\n",
      "448/448 [==============================] - 19s 42ms/step - loss: 1.2598 - accuracy: 0.5172 - val_loss: 1.1270 - val_accuracy: 0.5488\n",
      "Epoch 31/50\n",
      "448/448 [==============================] - 19s 42ms/step - loss: 1.2630 - accuracy: 0.5215 - val_loss: 1.1623 - val_accuracy: 0.5371\n",
      "Epoch 32/50\n",
      "448/448 [==============================] - 19s 43ms/step - loss: 1.2479 - accuracy: 0.5267 - val_loss: 1.1041 - val_accuracy: 0.5597\n",
      "Epoch 33/50\n",
      "448/448 [==============================] - 19s 42ms/step - loss: 1.2447 - accuracy: 0.5295 - val_loss: 1.1899 - val_accuracy: 0.5246\n",
      "Epoch 34/50\n",
      "448/448 [==============================] - 19s 42ms/step - loss: 1.2443 - accuracy: 0.5279 - val_loss: 1.1226 - val_accuracy: 0.5533\n",
      "Epoch 35/50\n",
      "448/448 [==============================] - 20s 44ms/step - loss: 1.2426 - accuracy: 0.5252 - val_loss: 1.1231 - val_accuracy: 0.5519\n",
      "Epoch 36/50\n",
      "448/448 [==============================] - 19s 42ms/step - loss: 1.2290 - accuracy: 0.5349 - val_loss: 1.0913 - val_accuracy: 0.5664\n",
      "Epoch 37/50\n",
      "448/448 [==============================] - 19s 42ms/step - loss: 1.2185 - accuracy: 0.5393 - val_loss: 1.1292 - val_accuracy: 0.5460\n",
      "Epoch 38/50\n",
      "448/448 [==============================] - 20s 44ms/step - loss: 1.2312 - accuracy: 0.5377 - val_loss: 1.1134 - val_accuracy: 0.5536\n",
      "Epoch 39/50\n",
      "448/448 [==============================] - 19s 42ms/step - loss: 1.2333 - accuracy: 0.5335 - val_loss: 1.0571 - val_accuracy: 0.5820\n",
      "Epoch 40/50\n",
      "448/448 [==============================] - 19s 42ms/step - loss: 1.2081 - accuracy: 0.5458 - val_loss: 1.1236 - val_accuracy: 0.5483\n",
      "Epoch 41/50\n",
      "448/448 [==============================] - 19s 42ms/step - loss: 1.2158 - accuracy: 0.5382 - val_loss: 1.0486 - val_accuracy: 0.5834\n",
      "Epoch 42/50\n",
      "448/448 [==============================] - 19s 42ms/step - loss: 1.2085 - accuracy: 0.5423 - val_loss: 1.0478 - val_accuracy: 0.5815\n",
      "Epoch 43/50\n",
      "448/448 [==============================] - 19s 42ms/step - loss: 1.1981 - accuracy: 0.5495 - val_loss: 1.0860 - val_accuracy: 0.5605\n",
      "Epoch 44/50\n",
      "448/448 [==============================] - 19s 42ms/step - loss: 1.1933 - accuracy: 0.5493 - val_loss: 1.1071 - val_accuracy: 0.5586\n",
      "Epoch 45/50\n",
      "448/448 [==============================] - 19s 42ms/step - loss: 1.1992 - accuracy: 0.5447 - val_loss: 1.1048 - val_accuracy: 0.5622\n",
      "Epoch 46/50\n",
      "448/448 [==============================] - 19s 42ms/step - loss: 1.1830 - accuracy: 0.5520 - val_loss: 1.0670 - val_accuracy: 0.5762\n",
      "Epoch 47/50\n",
      "448/448 [==============================] - 19s 43ms/step - loss: 1.1833 - accuracy: 0.5526 - val_loss: 1.0707 - val_accuracy: 0.5776\n",
      "Epoch 48/50\n",
      "448/448 [==============================] - 19s 42ms/step - loss: 1.1778 - accuracy: 0.5521 - val_loss: 1.1064 - val_accuracy: 0.5525\n",
      "Epoch 49/50\n",
      "448/448 [==============================] - 19s 42ms/step - loss: 1.1872 - accuracy: 0.5513 - val_loss: 1.0295 - val_accuracy: 0.5943\n",
      "Epoch 50/50\n",
      "448/448 [==============================] - 20s 45ms/step - loss: 1.1699 - accuracy: 0.5557 - val_loss: 1.0257 - val_accuracy: 0.5935\n"
     ]
    }
   ],
   "source": [
    "history_2 = model_2.fit_generator(\n",
    "            train_generator,\n",
    "            steps_per_epoch=num_train // batch_size,\n",
    "            epochs=num_epoch,\n",
    "            validation_data=validation_generator,\n",
    "            validation_steps=num_val // batch_size)"
   ]
  },
  {
   "cell_type": "code",
   "execution_count": null,
   "metadata": {
    "colab": {
     "base_uri": "https://localhost:8080/",
     "height": 500
    },
    "executionInfo": {
     "elapsed": 1217,
     "status": "ok",
     "timestamp": 1646398999539,
     "user": {
      "displayName": "Onyedikachi Benjamin Ogbonna",
      "photoUrl": "https://lh3.googleusercontent.com/a-/AOh14GjnqEURrzgqZWD7PCgpcMXmekHRItI9AdopHP0dAg=s64",
      "userId": "07189464990372282231"
     },
     "user_tz": -60
    },
    "id": "xw7ESKD39bVY",
    "outputId": "de0bce02-1265-4ebc-ef35-8761234ec3db"
   },
   "outputs": [
    {
     "data": {
      "text/plain": [
       "<matplotlib.axes._subplots.AxesSubplot at 0x7f843f46c510>"
      ]
     },
     "execution_count": 16,
     "metadata": {},
     "output_type": "execute_result"
    },
    {
     "data": {
      "image/png": "[encoded data removed]",
      "text/plain": [
       "<Figure size 864x576 with 1 Axes>"
      ]
     },
     "metadata": {
      "needs_background": "light"
     },
     "output_type": "display_data"
    }
   ],
   "source": [
    "pd.DataFrame(history_2.history).plot(figsize=(12, 8))"
   ]
  },
  {
   "cell_type": "code",
   "execution_count": null,
   "metadata": {
    "id": "OFMAL96wBwUy"
   },
   "outputs": [],
   "source": [
    "location = '/content/drive/MyDrive/Colab Notebooks/Face_expression_recognition_project/saved_models/model_7.h5'\n",
    "\n",
    "model_2.save(location)"
   ]
  },
  {
   "cell_type": "markdown",
   "metadata": {
    "id": "JzRsw-nGCIYT"
   },
   "source": [
    "# 3rd model"
   ]
  },
  {
   "cell_type": "code",
   "execution_count": null,
   "metadata": {
    "colab": {
     "base_uri": "https://localhost:8080/"
    },
    "executionInfo": {
     "elapsed": 2419,
     "status": "ok",
     "timestamp": 1646642008980,
     "user": {
      "displayName": "Onyedikachi Benjamin Ogbonna",
      "photoUrl": "https://lh3.googleusercontent.com/a-/AOh14GjnqEURrzgqZWD7PCgpcMXmekHRItI9AdopHP0dAg=s64",
      "userId": "07189464990372282231"
     },
     "user_tz": -60
    },
    "id": "1IjWidD4gWSc",
    "outputId": "3bbb0d84-b0c5-4272-8f45-1eb9a4da6fdd"
   },
   "outputs": [
    {
     "name": "stdout",
     "output_type": "stream",
     "text": [
      "Found 28821 images belonging to 7 classes.\n",
      "Found 7066 images belonging to 7 classes.\n"
     ]
    }
   ],
   "source": [
    "# number of images to feed into the NN for every batch\n",
    "batch_size = 128\n",
    "\n",
    "pic_size = 48\n",
    "\n",
    "datagen_train = ImageDataGenerator()\n",
    "datagen_validation = ImageDataGenerator()\n",
    "\n",
    "train_generator = datagen_train.flow_from_directory(train_dir,\n",
    "                                                    target_size=(pic_size,pic_size),\n",
    "                                                    color_mode=\"grayscale\",\n",
    "                                                    batch_size=batch_size,\n",
    "                                                    class_mode='categorical',\n",
    "                                                    shuffle=True)\n",
    "\n",
    "validation_generator = datagen_validation.flow_from_directory(validation_dir,\n",
    "                                                    target_size=(pic_size,pic_size),\n",
    "                                                    color_mode=\"grayscale\",\n",
    "                                                    batch_size=batch_size,\n",
    "                                                    class_mode='categorical',\n",
    "                                                    shuffle=False)"
   ]
  },
  {
   "cell_type": "code",
   "execution_count": null,
   "metadata": {
    "colab": {
     "base_uri": "https://localhost:8080/"
    },
    "executionInfo": {
     "elapsed": 510,
     "status": "ok",
     "timestamp": 1646642058104,
     "user": {
      "displayName": "Onyedikachi Benjamin Ogbonna",
      "photoUrl": "https://lh3.googleusercontent.com/a-/AOh14GjnqEURrzgqZWD7PCgpcMXmekHRItI9AdopHP0dAg=s64",
      "userId": "07189464990372282231"
     },
     "user_tz": -60
    },
    "id": "yQRLSUpHgwcG",
    "outputId": "a6c6dd26-7b22-4a15-9473-876dec7aac8b"
   },
   "outputs": [
    {
     "name": "stderr",
     "output_type": "stream",
     "text": [
      "/usr/local/lib/python3.7/dist-packages/keras/optimizer_v2/adam.py:105: UserWarning: The `lr` argument is deprecated, use `learning_rate` instead.\n",
      "  super(Adam, self).__init__(name, **kwargs)\n"
     ]
    }
   ],
   "source": [
    "# number of possible label values\n",
    "nb_classes = 7\n",
    "\n",
    "# Initialising the CNN\n",
    "model = Sequential()\n",
    "\n",
    "# 1 - Convolution\n",
    "model.add(Conv2D(64,(3,3), padding='same', input_shape=(48, 48,1)))\n",
    "model.add(BatchNormalization())\n",
    "model.add(Activation('relu'))\n",
    "model.add(MaxPooling2D(pool_size=(2, 2)))\n",
    "model.add(Dropout(0.25))\n",
    "\n",
    "# 2nd Convolution layer\n",
    "model.add(Conv2D(128,(5,5), padding='same'))\n",
    "model.add(BatchNormalization())\n",
    "model.add(Activation('relu'))\n",
    "model.add(MaxPooling2D(pool_size=(2, 2)))\n",
    "model.add(Dropout(0.25))\n",
    "\n",
    "# 3rd Convolution layer\n",
    "model.add(Conv2D(512,(3,3), padding='same'))\n",
    "model.add(BatchNormalization())\n",
    "model.add(Activation('relu'))\n",
    "model.add(MaxPooling2D(pool_size=(2, 2)))\n",
    "model.add(Dropout(0.25))\n",
    "\n",
    "# 4th Convolution layer\n",
    "model.add(Conv2D(512,(3,3), padding='same'))\n",
    "model.add(BatchNormalization())\n",
    "model.add(Activation('relu'))\n",
    "model.add(MaxPooling2D(pool_size=(2, 2)))\n",
    "model.add(Dropout(0.25))\n",
    "\n",
    "# Flattening\n",
    "model.add(Flatten())\n",
    "\n",
    "# Fully connected layer 1st layer\n",
    "model.add(Dense(256))\n",
    "model.add(BatchNormalization())\n",
    "model.add(Activation('relu'))\n",
    "model.add(Dropout(0.25))\n",
    "\n",
    "# Fully connected layer 2nd layer\n",
    "model.add(Dense(512))\n",
    "model.add(BatchNormalization())\n",
    "model.add(Activation('relu'))\n",
    "model.add(Dropout(0.25))\n",
    "\n",
    "model.add(Dense(nb_classes, activation='softmax'))\n",
    "\n",
    "opt = tf.keras.optimizers.Adam(lr=0.0001)\n",
    "model.compile(optimizer=opt, loss='categorical_crossentropy', metrics=['accuracy'])"
   ]
  },
  {
   "cell_type": "code",
   "execution_count": null,
   "metadata": {
    "colab": {
     "base_uri": "https://localhost:8080/"
    },
    "executionInfo": {
     "elapsed": 1755064,
     "status": "ok",
     "timestamp": 1646643856482,
     "user": {
      "displayName": "Onyedikachi Benjamin Ogbonna",
      "photoUrl": "https://lh3.googleusercontent.com/a-/AOh14GjnqEURrzgqZWD7PCgpcMXmekHRItI9AdopHP0dAg=s64",
      "userId": "07189464990372282231"
     },
     "user_tz": -60
    },
    "id": "kzwCenhfg3Fl",
    "outputId": "c9965375-fc98-4acb-c23a-9e2eb1677cac"
   },
   "outputs": [
    {
     "name": "stderr",
     "output_type": "stream",
     "text": [
      "/usr/local/lib/python3.7/dist-packages/ipykernel_launcher.py:15: UserWarning: `Model.fit_generator` is deprecated and will be removed in a future version. Please use `Model.fit`, which supports generators.\n",
      "  from ipykernel import kernelapp as app\n"
     ]
    },
    {
     "name": "stdout",
     "output_type": "stream",
     "text": [
      "Epoch 1/50\n",
      "225/225 [==============================] - ETA: 0s - loss: 2.0517 - accuracy: 0.2309WARNING:tensorflow:Can save best model only with val_acc available, skipping.\n",
      "225/225 [==============================] - 37s 108ms/step - loss: 2.0517 - accuracy: 0.2309 - val_loss: 1.7310 - val_accuracy: 0.3119\n",
      "Epoch 2/50\n",
      "225/225 [==============================] - ETA: 0s - loss: 1.8346 - accuracy: 0.2959WARNING:tensorflow:Can save best model only with val_acc available, skipping.\n",
      "225/225 [==============================] - 24s 106ms/step - loss: 1.8346 - accuracy: 0.2959 - val_loss: 1.6593 - val_accuracy: 0.3581\n",
      "Epoch 3/50\n",
      "225/225 [==============================] - ETA: 0s - loss: 1.7349 - accuracy: 0.3395WARNING:tensorflow:Can save best model only with val_acc available, skipping.\n",
      "225/225 [==============================] - 23s 102ms/step - loss: 1.7349 - accuracy: 0.3395 - val_loss: 1.5815 - val_accuracy: 0.3882\n",
      "Epoch 4/50\n",
      "225/225 [==============================] - ETA: 0s - loss: 1.6606 - accuracy: 0.3656WARNING:tensorflow:Can save best model only with val_acc available, skipping.\n",
      "225/225 [==============================] - 23s 102ms/step - loss: 1.6606 - accuracy: 0.3656 - val_loss: 1.5587 - val_accuracy: 0.3986\n",
      "Epoch 5/50\n",
      "225/225 [==============================] - ETA: 0s - loss: 1.6013 - accuracy: 0.3873WARNING:tensorflow:Can save best model only with val_acc available, skipping.\n",
      "225/225 [==============================] - 23s 103ms/step - loss: 1.6013 - accuracy: 0.3873 - val_loss: 1.5218 - val_accuracy: 0.4162\n",
      "Epoch 6/50\n",
      "225/225 [==============================] - ETA: 0s - loss: 1.5428 - accuracy: 0.4081WARNING:tensorflow:Can save best model only with val_acc available, skipping.\n",
      "225/225 [==============================] - 23s 103ms/step - loss: 1.5428 - accuracy: 0.4081 - val_loss: 1.6067 - val_accuracy: 0.4045\n",
      "Epoch 7/50\n",
      "225/225 [==============================] - ETA: 0s - loss: 1.4941 - accuracy: 0.4298WARNING:tensorflow:Can save best model only with val_acc available, skipping.\n",
      "225/225 [==============================] - 23s 103ms/step - loss: 1.4941 - accuracy: 0.4298 - val_loss: 1.4567 - val_accuracy: 0.4408\n",
      "Epoch 8/50\n",
      "225/225 [==============================] - ETA: 0s - loss: 1.4530 - accuracy: 0.4421WARNING:tensorflow:Can save best model only with val_acc available, skipping.\n",
      "225/225 [==============================] - 23s 103ms/step - loss: 1.4530 - accuracy: 0.4421 - val_loss: 1.5623 - val_accuracy: 0.4388\n",
      "Epoch 9/50\n",
      "225/225 [==============================] - ETA: 0s - loss: 1.4100 - accuracy: 0.4586WARNING:tensorflow:Can save best model only with val_acc available, skipping.\n",
      "225/225 [==============================] - 23s 104ms/step - loss: 1.4100 - accuracy: 0.4586 - val_loss: 1.4510 - val_accuracy: 0.4568\n",
      "Epoch 10/50\n",
      "225/225 [==============================] - ETA: 0s - loss: 1.3711 - accuracy: 0.4721WARNING:tensorflow:Can save best model only with val_acc available, skipping.\n",
      "225/225 [==============================] - 23s 103ms/step - loss: 1.3711 - accuracy: 0.4721 - val_loss: 1.3080 - val_accuracy: 0.5085\n",
      "Epoch 11/50\n",
      "225/225 [==============================] - ETA: 0s - loss: 1.3325 - accuracy: 0.4883WARNING:tensorflow:Can save best model only with val_acc available, skipping.\n",
      "225/225 [==============================] - 23s 103ms/step - loss: 1.3325 - accuracy: 0.4883 - val_loss: 1.3482 - val_accuracy: 0.4919\n",
      "Epoch 12/50\n",
      "225/225 [==============================] - ETA: 0s - loss: 1.3104 - accuracy: 0.4984WARNING:tensorflow:Can save best model only with val_acc available, skipping.\n",
      "225/225 [==============================] - 23s 103ms/step - loss: 1.3104 - accuracy: 0.4984 - val_loss: 1.2767 - val_accuracy: 0.5230\n",
      "Epoch 13/50\n",
      "225/225 [==============================] - ETA: 0s - loss: 1.2857 - accuracy: 0.5118WARNING:tensorflow:Can save best model only with val_acc available, skipping.\n",
      "225/225 [==============================] - 23s 103ms/step - loss: 1.2857 - accuracy: 0.5118 - val_loss: 1.2345 - val_accuracy: 0.5371\n",
      "Epoch 14/50\n",
      "225/225 [==============================] - ETA: 0s - loss: 1.2618 - accuracy: 0.5183WARNING:tensorflow:Can save best model only with val_acc available, skipping.\n",
      "225/225 [==============================] - 23s 103ms/step - loss: 1.2618 - accuracy: 0.5183 - val_loss: 1.2530 - val_accuracy: 0.5280\n",
      "Epoch 15/50\n",
      "225/225 [==============================] - ETA: 0s - loss: 1.2257 - accuracy: 0.5319WARNING:tensorflow:Can save best model only with val_acc available, skipping.\n",
      "225/225 [==============================] - 23s 102ms/step - loss: 1.2257 - accuracy: 0.5319 - val_loss: 1.1863 - val_accuracy: 0.5547\n",
      "Epoch 16/50\n",
      "225/225 [==============================] - ETA: 0s - loss: 1.2171 - accuracy: 0.5389WARNING:tensorflow:Can save best model only with val_acc available, skipping.\n",
      "225/225 [==============================] - 23s 102ms/step - loss: 1.2171 - accuracy: 0.5389 - val_loss: 1.2554 - val_accuracy: 0.5243\n",
      "Epoch 17/50\n",
      "225/225 [==============================] - ETA: 0s - loss: 1.1917 - accuracy: 0.5473WARNING:tensorflow:Can save best model only with val_acc available, skipping.\n",
      "225/225 [==============================] - 24s 105ms/step - loss: 1.1917 - accuracy: 0.5473 - val_loss: 1.1760 - val_accuracy: 0.5574\n",
      "Epoch 18/50\n",
      "225/225 [==============================] - ETA: 0s - loss: 1.1675 - accuracy: 0.5537WARNING:tensorflow:Can save best model only with val_acc available, skipping.\n",
      "225/225 [==============================] - 23s 103ms/step - loss: 1.1675 - accuracy: 0.5537 - val_loss: 1.1595 - val_accuracy: 0.5624\n",
      "Epoch 19/50\n",
      "225/225 [==============================] - ETA: 0s - loss: 1.1447 - accuracy: 0.5664WARNING:tensorflow:Can save best model only with val_acc available, skipping.\n",
      "225/225 [==============================] - 26s 116ms/step - loss: 1.1447 - accuracy: 0.5664 - val_loss: 1.1360 - val_accuracy: 0.5766\n",
      "Epoch 20/50\n",
      "225/225 [==============================] - ETA: 0s - loss: 1.1319 - accuracy: 0.5704WARNING:tensorflow:Can save best model only with val_acc available, skipping.\n",
      "225/225 [==============================] - 33s 146ms/step - loss: 1.1319 - accuracy: 0.5704 - val_loss: 1.1623 - val_accuracy: 0.5597\n",
      "Epoch 21/50\n",
      "225/225 [==============================] - ETA: 0s - loss: 1.1114 - accuracy: 0.5768WARNING:tensorflow:Can save best model only with val_acc available, skipping.\n",
      "225/225 [==============================] - 24s 105ms/step - loss: 1.1114 - accuracy: 0.5768 - val_loss: 1.1160 - val_accuracy: 0.5800\n",
      "Epoch 22/50\n",
      "225/225 [==============================] - ETA: 0s - loss: 1.0947 - accuracy: 0.5839WARNING:tensorflow:Can save best model only with val_acc available, skipping.\n",
      "225/225 [==============================] - 23s 103ms/step - loss: 1.0947 - accuracy: 0.5839 - val_loss: 1.0999 - val_accuracy: 0.5893\n",
      "Epoch 23/50\n",
      "225/225 [==============================] - ETA: 0s - loss: 1.0728 - accuracy: 0.5922WARNING:tensorflow:Can save best model only with val_acc available, skipping.\n",
      "225/225 [==============================] - 24s 105ms/step - loss: 1.0728 - accuracy: 0.5922 - val_loss: 1.0888 - val_accuracy: 0.5976\n",
      "Epoch 24/50\n",
      "225/225 [==============================] - ETA: 0s - loss: 1.0545 - accuracy: 0.6013WARNING:tensorflow:Can save best model only with val_acc available, skipping.\n",
      "225/225 [==============================] - 24s 107ms/step - loss: 1.0545 - accuracy: 0.6013 - val_loss: 1.1012 - val_accuracy: 0.5847\n",
      "Epoch 25/50\n",
      "225/225 [==============================] - ETA: 0s - loss: 1.0366 - accuracy: 0.6079WARNING:tensorflow:Can save best model only with val_acc available, skipping.\n",
      "225/225 [==============================] - 23s 104ms/step - loss: 1.0366 - accuracy: 0.6079 - val_loss: 1.0808 - val_accuracy: 0.6023\n",
      "Epoch 26/50\n",
      "225/225 [==============================] - ETA: 0s - loss: 1.0259 - accuracy: 0.6113WARNING:tensorflow:Can save best model only with val_acc available, skipping.\n",
      "225/225 [==============================] - 23s 103ms/step - loss: 1.0259 - accuracy: 0.6113 - val_loss: 1.0919 - val_accuracy: 0.5986\n",
      "Epoch 27/50\n",
      "225/225 [==============================] - ETA: 0s - loss: 1.0076 - accuracy: 0.6174WARNING:tensorflow:Can save best model only with val_acc available, skipping.\n",
      "225/225 [==============================] - 23s 102ms/step - loss: 1.0076 - accuracy: 0.6174 - val_loss: 1.0805 - val_accuracy: 0.6028\n",
      "Epoch 28/50\n",
      "225/225 [==============================] - ETA: 0s - loss: 0.9939 - accuracy: 0.6229WARNING:tensorflow:Can save best model only with val_acc available, skipping.\n",
      "225/225 [==============================] - 23s 102ms/step - loss: 0.9939 - accuracy: 0.6229 - val_loss: 1.0708 - val_accuracy: 0.6054\n",
      "Epoch 29/50\n",
      "225/225 [==============================] - ETA: 0s - loss: 0.9776 - accuracy: 0.6317WARNING:tensorflow:Can save best model only with val_acc available, skipping.\n",
      "225/225 [==============================] - 23s 103ms/step - loss: 0.9776 - accuracy: 0.6317 - val_loss: 1.0644 - val_accuracy: 0.6102\n",
      "Epoch 30/50\n",
      "225/225 [==============================] - ETA: 0s - loss: 0.9575 - accuracy: 0.6380WARNING:tensorflow:Can save best model only with val_acc available, skipping.\n",
      "225/225 [==============================] - 23s 102ms/step - loss: 0.9575 - accuracy: 0.6380 - val_loss: 1.0672 - val_accuracy: 0.6004\n",
      "Epoch 31/50\n",
      "225/225 [==============================] - ETA: 0s - loss: 0.9445 - accuracy: 0.6470WARNING:tensorflow:Can save best model only with val_acc available, skipping.\n",
      "225/225 [==============================] - 23s 103ms/step - loss: 0.9445 - accuracy: 0.6470 - val_loss: 1.0717 - val_accuracy: 0.6114\n",
      "Epoch 32/50\n",
      "225/225 [==============================] - ETA: 0s - loss: 0.9351 - accuracy: 0.6488WARNING:tensorflow:Can save best model only with val_acc available, skipping.\n",
      "225/225 [==============================] - 23s 103ms/step - loss: 0.9351 - accuracy: 0.6488 - val_loss: 1.0565 - val_accuracy: 0.6153\n",
      "Epoch 33/50\n",
      "225/225 [==============================] - ETA: 0s - loss: 0.9198 - accuracy: 0.6551WARNING:tensorflow:Can save best model only with val_acc available, skipping.\n",
      "225/225 [==============================] - 23s 103ms/step - loss: 0.9198 - accuracy: 0.6551 - val_loss: 1.0420 - val_accuracy: 0.6185\n",
      "Epoch 34/50\n",
      "225/225 [==============================] - ETA: 0s - loss: 0.8989 - accuracy: 0.6655WARNING:tensorflow:Can save best model only with val_acc available, skipping.\n",
      "225/225 [==============================] - 23s 103ms/step - loss: 0.8989 - accuracy: 0.6655 - val_loss: 1.0357 - val_accuracy: 0.6203\n",
      "Epoch 35/50\n",
      "225/225 [==============================] - ETA: 0s - loss: 0.8848 - accuracy: 0.6663WARNING:tensorflow:Can save best model only with val_acc available, skipping.\n",
      "225/225 [==============================] - 23s 103ms/step - loss: 0.8848 - accuracy: 0.6663 - val_loss: 1.0832 - val_accuracy: 0.6031\n",
      "Epoch 36/50\n",
      "225/225 [==============================] - ETA: 0s - loss: 0.8760 - accuracy: 0.6673WARNING:tensorflow:Can save best model only with val_acc available, skipping.\n",
      "225/225 [==============================] - 23s 104ms/step - loss: 0.8760 - accuracy: 0.6673 - val_loss: 1.0249 - val_accuracy: 0.6314\n",
      "Epoch 37/50\n",
      "225/225 [==============================] - ETA: 0s - loss: 0.8591 - accuracy: 0.6776WARNING:tensorflow:Can save best model only with val_acc available, skipping.\n",
      "225/225 [==============================] - 23s 103ms/step - loss: 0.8591 - accuracy: 0.6776 - val_loss: 1.0273 - val_accuracy: 0.6283\n",
      "Epoch 38/50\n",
      "225/225 [==============================] - ETA: 0s - loss: 0.8464 - accuracy: 0.6839WARNING:tensorflow:Can save best model only with val_acc available, skipping.\n",
      "225/225 [==============================] - 23s 103ms/step - loss: 0.8464 - accuracy: 0.6839 - val_loss: 1.0486 - val_accuracy: 0.6187\n",
      "Epoch 39/50\n",
      "225/225 [==============================] - ETA: 0s - loss: 0.8311 - accuracy: 0.6884WARNING:tensorflow:Can save best model only with val_acc available, skipping.\n",
      "225/225 [==============================] - 23s 102ms/step - loss: 0.8311 - accuracy: 0.6884 - val_loss: 1.0152 - val_accuracy: 0.6403\n",
      "Epoch 40/50\n",
      "225/225 [==============================] - ETA: 0s - loss: 0.8139 - accuracy: 0.6957WARNING:tensorflow:Can save best model only with val_acc available, skipping.\n",
      "225/225 [==============================] - 23s 103ms/step - loss: 0.8139 - accuracy: 0.6957 - val_loss: 1.0544 - val_accuracy: 0.6190\n",
      "Epoch 41/50\n",
      "225/225 [==============================] - ETA: 0s - loss: 0.8008 - accuracy: 0.7013WARNING:tensorflow:Can save best model only with val_acc available, skipping.\n",
      "225/225 [==============================] - 23s 103ms/step - loss: 0.8008 - accuracy: 0.7013 - val_loss: 1.0182 - val_accuracy: 0.6425\n",
      "Epoch 42/50\n",
      "225/225 [==============================] - ETA: 0s - loss: 0.7813 - accuracy: 0.7077WARNING:tensorflow:Can save best model only with val_acc available, skipping.\n",
      "225/225 [==============================] - 24s 105ms/step - loss: 0.7813 - accuracy: 0.7077 - val_loss: 1.0273 - val_accuracy: 0.6359\n",
      "Epoch 43/50\n",
      "225/225 [==============================] - ETA: 0s - loss: 0.7674 - accuracy: 0.7124WARNING:tensorflow:Can save best model only with val_acc available, skipping.\n",
      "225/225 [==============================] - 23s 104ms/step - loss: 0.7674 - accuracy: 0.7124 - val_loss: 1.0200 - val_accuracy: 0.6456\n",
      "Epoch 44/50\n",
      "225/225 [==============================] - ETA: 0s - loss: 0.7542 - accuracy: 0.7151WARNING:tensorflow:Can save best model only with val_acc available, skipping.\n",
      "225/225 [==============================] - 23s 104ms/step - loss: 0.7542 - accuracy: 0.7151 - val_loss: 1.0155 - val_accuracy: 0.6406\n",
      "Epoch 45/50\n",
      "225/225 [==============================] - ETA: 0s - loss: 0.7404 - accuracy: 0.7252WARNING:tensorflow:Can save best model only with val_acc available, skipping.\n",
      "225/225 [==============================] - 23s 103ms/step - loss: 0.7404 - accuracy: 0.7252 - val_loss: 1.0359 - val_accuracy: 0.6375\n",
      "Epoch 46/50\n",
      "225/225 [==============================] - ETA: 0s - loss: 0.7271 - accuracy: 0.7238WARNING:tensorflow:Can save best model only with val_acc available, skipping.\n",
      "225/225 [==============================] - 23s 104ms/step - loss: 0.7271 - accuracy: 0.7238 - val_loss: 1.0278 - val_accuracy: 0.6369\n",
      "Epoch 47/50\n",
      "225/225 [==============================] - ETA: 0s - loss: 0.7167 - accuracy: 0.7312WARNING:tensorflow:Can save best model only with val_acc available, skipping.\n",
      "225/225 [==============================] - 29s 127ms/step - loss: 0.7167 - accuracy: 0.7312 - val_loss: 1.0466 - val_accuracy: 0.6389\n",
      "Epoch 48/50\n",
      "225/225 [==============================] - ETA: 0s - loss: 0.7063 - accuracy: 0.7361WARNING:tensorflow:Can save best model only with val_acc available, skipping.\n",
      "225/225 [==============================] - 25s 111ms/step - loss: 0.7063 - accuracy: 0.7361 - val_loss: 1.0344 - val_accuracy: 0.6457\n",
      "Epoch 49/50\n",
      "225/225 [==============================] - ETA: 0s - loss: 0.6841 - accuracy: 0.7458WARNING:tensorflow:Can save best model only with val_acc available, skipping.\n",
      "225/225 [==============================] - 23s 104ms/step - loss: 0.6841 - accuracy: 0.7458 - val_loss: 1.0238 - val_accuracy: 0.6456\n",
      "Epoch 50/50\n",
      "225/225 [==============================] - ETA: 0s - loss: 0.6705 - accuracy: 0.7512WARNING:tensorflow:Can save best model only with val_acc available, skipping.\n",
      "225/225 [==============================] - 23s 104ms/step - loss: 0.6705 - accuracy: 0.7512 - val_loss: 1.0209 - val_accuracy: 0.6493\n",
      "CPU times: user 23min 45s, sys: 1min 44s, total: 25min 29s\n",
      "Wall time: 29min 14s\n"
     ]
    }
   ],
   "source": [
    "%%time\n",
    "\n",
    "# number of epochs to train the NN\n",
    "epochs = 50\n",
    "\n",
    "from keras.callbacks import ModelCheckpoint\n",
    "\n",
    "checkpoint = ModelCheckpoint(\"model_weights.h5\", monitor='val_acc', verbose=1, save_best_only=True, mode='max')\n",
    "callbacks_list = [checkpoint]\n",
    "\n",
    "history = model.fit_generator(generator=train_generator,\n",
    "                                steps_per_epoch=train_generator.n//train_generator.batch_size,\n",
    "                                epochs=epochs,\n",
    "                                validation_data = validation_generator,\n",
    "                                validation_steps = validation_generator.n//validation_generator.batch_size,\n",
    "                                callbacks=callbacks_list\n",
    "                                )"
   ]
  },
  {
   "cell_type": "code",
   "execution_count": null,
   "metadata": {
    "colab": {
     "base_uri": "https://localhost:8080/"
    },
    "executionInfo": {
     "elapsed": 3316,
     "status": "ok",
     "timestamp": 1646643876372,
     "user": {
      "displayName": "Onyedikachi Benjamin Ogbonna",
      "photoUrl": "https://lh3.googleusercontent.com/a-/AOh14GjnqEURrzgqZWD7PCgpcMXmekHRItI9AdopHP0dAg=s64",
      "userId": "07189464990372282231"
     },
     "user_tz": -60
    },
    "id": "PzFyg90DmqX0",
    "outputId": "85ede81d-f53e-4f37-df69-25a081f3b44b"
   },
   "outputs": [
    {
     "name": "stdout",
     "output_type": "stream",
     "text": [
      "56/56 [==============================] - 3s 52ms/step - loss: 1.0208 - accuracy: 0.6499\n"
     ]
    },
    {
     "data": {
      "text/plain": [
       "[1.0208085775375366, 0.6498726010322571]"
      ]
     },
     "execution_count": 11,
     "metadata": {},
     "output_type": "execute_result"
    }
   ],
   "source": [
    "model_accuracy = model.evaluate(validation_generator)\n",
    "\n",
    "model_accuracy"
   ]
  },
  {
   "cell_type": "code",
   "execution_count": null,
   "metadata": {
    "colab": {
     "base_uri": "https://localhost:8080/",
     "height": 500
    },
    "executionInfo": {
     "elapsed": 946,
     "status": "ok",
     "timestamp": 1646643858459,
     "user": {
      "displayName": "Onyedikachi Benjamin Ogbonna",
      "photoUrl": "https://lh3.googleusercontent.com/a-/AOh14GjnqEURrzgqZWD7PCgpcMXmekHRItI9AdopHP0dAg=s64",
      "userId": "07189464990372282231"
     },
     "user_tz": -60
    },
    "id": "Mh52oVcdhHmb",
    "outputId": "312a389a-dc8d-48bb-dcc5-8c6af09ee778"
   },
   "outputs": [
    {
     "data": {
      "text/plain": [
       "<matplotlib.axes._subplots.AxesSubplot at 0x7f67308f4d10>"
      ]
     },
     "execution_count": 10,
     "metadata": {},
     "output_type": "execute_result"
    },
    {
     "data": {
      "image/png": "[encoded data removed]",
      "text/plain": [
       "<Figure size 864x576 with 1 Axes>"
      ]
     },
     "metadata": {
      "needs_background": "light"
     },
     "output_type": "display_data"
    }
   ],
   "source": [
    "pd.DataFrame(history.history).plot(figsize=(12, 8))"
   ]
  },
  {
   "cell_type": "code",
   "execution_count": null,
   "metadata": {
    "id": "TL6-A4XenLBk"
   },
   "outputs": [],
   "source": [
    "location = '/content/drive/MyDrive/Colab Notebooks/Face_expression_recognition_project/saved_models/model_3.h5'\n",
    "\n",
    "model.save(location)"
   ]
  },
  {
   "cell_type": "code",
   "execution_count": 2,
   "metadata": {
    "id": "0OktZ5GrpSMy",
    "outputId": "273d1825-5300-4ae9-f604-1171a19f274e",
    "scrolled": true
   },
   "outputs": [],
   "source": [
    "model = tf.keras.models.load_model('model_3.h5')\n",
    "\n",
    "# classes of face expression\n",
    "emotion_list = [\"Angry\", \"Disgust\", \"Fear\", \"Happy\", \"Neutral\", \"Sad\", \"Surprise\"]\n",
    "haarcascade = 'haarcascade_frontalface_default.xml'"
   ]
  },
  {
   "cell_type": "code",
   "execution_count": 4,
   "metadata": {},
   "outputs": [],
   "source": [
    "# Create a function to import an image and resize it to be able to be used with our model\n",
    "def load_and_prep_image(filename):\n",
    "    \"\"\"\n",
    "    Reads an image from filename, turns it into a tensor\n",
    "    and reshapes it to (img_shape, img_shape, colour_channel).\n",
    "    \"\"\"\n",
    "    image = cv2.imread(filename)\n",
    "\n",
    "    # gray = cv2.cvtColor(image, cv2.COLOR_BGR2GRAY)\n",
    "\n",
    "    face_cascade = cv2.CascadeClassifier(haarcascade)\n",
    "\n",
    "    faces = face_cascade.detectMultiScale(image, scaleFactor=1.3, minNeighbors=5)\n",
    "\n",
    "    for (x, y, w, h) in faces:    \n",
    "        cv2.rectangle(image, (x, y), (x+w, y+h), (255, 0, 0), 2)\n",
    "        face = image[y:y + h, x:x + w]\n",
    "        gray = cv2.cvtColor(face, cv2.COLOR_BGR2GRAY)\n",
    "        cropped_img = np.expand_dims(np.expand_dims(cv2.resize(gray, (48, 48)), -1), 0)\n",
    "        \n",
    "        return cropped_img"
   ]
  },
  {
   "cell_type": "code",
   "execution_count": 5,
   "metadata": {},
   "outputs": [
    {
     "data": {
      "text/plain": [
       "'Happy'"
      ]
     },
     "execution_count": 5,
     "metadata": {},
     "output_type": "execute_result"
    }
   ],
   "source": [
    "file = 'sample_predictions/image.jpg'\n",
    "image = load_and_prep_image(file)\n",
    "\n",
    "pred = model.predict(image)\n",
    "emotion_list[int(np.argmax(pred))] "
   ]
  },
  {
   "cell_type": "code",
   "execution_count": null,
   "metadata": {},
   "outputs": [],
   "source": []
  }
 ],
 "metadata": {
  "accelerator": "GPU",
  "colab": {
   "collapsed_sections": [],
   "name": "Face_expression_recognition.ipynb",
   "provenance": []
  },
  "kernelspec": {
   "display_name": "Python 3",
   "language": "python",
   "name": "python3"
  },
  "language_info": {
   "codemirror_mode": {
    "name": "ipython",
    "version": 3
   },
   "file_extension": ".py",
   "mimetype": "text/x-python",
   "name": "python",
   "nbconvert_exporter": "python",
   "pygments_lexer": "ipython3",
   "version": "3.8.8"
  }
 },
 "nbformat": 4,
 "nbformat_minor": 1
}
